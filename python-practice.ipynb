{
 "cells": [
  {
   "cell_type": "markdown",
   "id": "adf81458",
   "metadata": {},
   "source": [
    "1.Take a string as a user input and display only those characters present at even index\n",
    "number."
   ]
  },
  {
   "cell_type": "code",
   "execution_count": 2,
   "id": "8c580a31",
   "metadata": {},
   "outputs": [
    {
     "name": "stdout",
     "output_type": "stream",
     "text": [
      "enter a stringapple\n",
      "a\n",
      "p\n",
      "e\n"
     ]
    }
   ],
   "source": [
    "s=input('enter a string')\n",
    "i=0\n",
    "for letter in s:\n",
    "    if i%2==0:\n",
    "        print(letter)\n",
    "    i=i+1"
   ]
  },
  {
   "cell_type": "markdown",
   "id": "513b85ee",
   "metadata": {},
   "source": [
    "2.Create a list of 10 integers taking user input. And display the sum of only those\n",
    "numbers present at odd indexes."
   ]
  },
  {
   "cell_type": "code",
   "execution_count": 17,
   "id": "fe593b9f",
   "metadata": {},
   "outputs": [
    {
     "name": "stdout",
     "output_type": "stream",
     "text": [
      "enter a number:1\n",
      "enter a number:2\n",
      "enter a number:3\n",
      "enter a number:4\n",
      "enter a number:5\n",
      "enter a number:6\n",
      "enter a number:7\n",
      "enter a number:8\n",
      "enter a number:9\n",
      "enter a number:10\n",
      "25\n"
     ]
    }
   ],
   "source": [
    "sum=0\n",
    "for i in range(0,10):\n",
    "    a=int(input(\"enter a number:\"))\n",
    "    if i%2==0:\n",
    "        sum=sum+a\n",
    "    i=i+1\n",
    "print(sum)"
   ]
  },
  {
   "cell_type": "markdown",
   "id": "3f1a406c",
   "metadata": {},
   "source": [
    "3.Sort this given list , List1 = [ 15, 47, 68, 89, 35, 13] , without using the sort function"
   ]
  },
  {
   "cell_type": "code",
   "execution_count": 26,
   "id": "244ecd2c",
   "metadata": {},
   "outputs": [
    {
     "name": "stdout",
     "output_type": "stream",
     "text": [
      "[15, 47, 68, 89, 35]\n"
     ]
    }
   ],
   "source": [
    "li=[15,47,68,89,35,13]\n",
    "li2=[]\n",
    "i=0\n",
    "j=i+1\n",
    "for i in range(0,5):\n",
    "    mi=li[i]\n",
    "    for j in range(i+1,6):\n",
    "        if(li[j]<min):\n",
    "          mi=li[j]\n",
    "        \n",
    "    li2.append(mi)\n",
    "    \n",
    "print(li2)"
   ]
  },
  {
   "cell_type": "markdown",
   "id": "c5d2706b",
   "metadata": {},
   "source": [
    "4.Print the following pattern\n",
    "1\n",
    "12\n",
    "123\n",
    "1234\n",
    "12345"
   ]
  },
  {
   "cell_type": "code",
   "execution_count": 32,
   "id": "00fc44fc",
   "metadata": {},
   "outputs": [
    {
     "name": "stdout",
     "output_type": "stream",
     "text": [
      "1\n",
      "12\n",
      "123\n",
      "1234\n",
      "12345\n"
     ]
    }
   ],
   "source": [
    "for i in range(1,6):\n",
    "    for j in range(1,i+1):\n",
    "        print(j,end=\"\")\n",
    "    print()\n",
    "    "
   ]
  },
  {
   "cell_type": "markdown",
   "id": "4b55b5ae",
   "metadata": {},
   "source": [
    "5.WAP to accept a 4 digit number from user and check if it’s a palindrome number."
   ]
  },
  {
   "cell_type": "code",
   "execution_count": 42,
   "id": "4cd4b011",
   "metadata": {},
   "outputs": [
    {
     "name": "stdout",
     "output_type": "stream",
     "text": [
      "enter a 4 digit number2323\n",
      "not pallindrome\n"
     ]
    }
   ],
   "source": [
    "a=int(input('enter a 4 digit number'))\n",
    "s=0\n",
    "n=a\n",
    "for i in range (0,4):\n",
    "    r=a%10\n",
    "    s=s*10+r\n",
    "    a=int(a/10)\n",
    "if s==n:\n",
    "    print('pallindrome')\n",
    "else:\n",
    "    print('not pallindrome')\n",
    "    "
   ]
  },
  {
   "cell_type": "markdown",
   "id": "69479d7b",
   "metadata": {},
   "source": [
    "6.. Given a two list of numbers create a new list such that new list should contain only\n",
    "odd numbers from the first list and even numbers from the second list"
   ]
  },
  {
   "cell_type": "code",
   "execution_count": 44,
   "id": "d33aa219",
   "metadata": {},
   "outputs": [
    {
     "name": "stdout",
     "output_type": "stream",
     "text": [
      "[1, 2, 3, 10, 5, 12, 7, 14]\n"
     ]
    }
   ],
   "source": [
    "l1=[1,2,3,4,5,6,7,8]\n",
    "l2=[1,2,9,10,11,12,13,14]\n",
    "l3=[]\n",
    "for i in range(0,8):\n",
    "    if(l1[i]%2!=0):\n",
    "        l3.append(l1[i])\n",
    "    if(l2[i]%2==0):\n",
    "        l3.append(l2[i])\n",
    "print(l3)\n",
    "    "
   ]
  },
  {
   "cell_type": "markdown",
   "id": "b06a83e0",
   "metadata": {},
   "source": [
    "7.Write a function called exponent(base, exp) that returns an int value of base raises\n",
    "to the power of exp.Write a function called exponent(base, exp) that returns an int value of base raises\n",
    "to the power of exp."
   ]
  },
  {
   "cell_type": "code",
   "execution_count": 45,
   "id": "a1a0afe1",
   "metadata": {},
   "outputs": [
    {
     "data": {
      "text/plain": [
       "243"
      ]
     },
     "execution_count": 45,
     "metadata": {},
     "output_type": "execute_result"
    }
   ],
   "source": [
    "def exp(base,exp):\n",
    "    return int(base**exp)\n",
    "exp(3,5)"
   ]
  },
  {
   "cell_type": "markdown",
   "id": "2f8faefc",
   "metadata": {},
   "source": [
    "8.Write a recursive function to count the number of digits present in a number given\n",
    "by the user."
   ]
  },
  {
   "cell_type": "code",
   "execution_count": 65,
   "id": "f92f6ff7",
   "metadata": {},
   "outputs": [
    {
     "name": "stdout",
     "output_type": "stream",
     "text": [
      "enter a number:123456789\n"
     ]
    },
    {
     "data": {
      "text/plain": [
       "9"
      ]
     },
     "execution_count": 65,
     "metadata": {},
     "output_type": "execute_result"
    }
   ],
   "source": [
    "\n",
    "def count(num):\n",
    "    num=int(num/10)\n",
    "    if num>0 :\n",
    "        return count(num)+1\n",
    "    if num==0 :\n",
    "        return 1\n",
    "a=int(input(\"enter a number:\"))\n",
    "count(a)\n",
    "\n"
   ]
  },
  {
   "cell_type": "markdown",
   "id": "ab96e0f8",
   "metadata": {},
   "source": [
    "9. WAP to replace the word “red” with “blue” from the string S =” The red bag has 10\n",
    "red pens”. "
   ]
  },
  {
   "cell_type": "code",
   "execution_count": 68,
   "id": "7cac65a7",
   "metadata": {},
   "outputs": [
    {
     "name": "stdout",
     "output_type": "stream",
     "text": [
      " The blue bag has 10 blue pens\n"
     ]
    }
   ],
   "source": [
    "s='The red bag has 10 red pens'\n",
    "r=''\n",
    "for l in s.split():\n",
    "    if l=='red':\n",
    "        r=r+' '+'blue'\n",
    "    else:\n",
    "        r=r+' '+l\n",
    "print(r)\n",
    "        \n",
    "    \n",
    "    "
   ]
  },
  {
   "cell_type": "markdown",
   "id": "8dd8351b",
   "metadata": {},
   "source": [
    "10. WAP to accept a choice from the user either 1 or 2 and find the sum of series\n",
    "accordingly.\n",
    "1 : S= a+ a^2/2 + a^3/3 + a^4/4 +......+ a^n/n\n",
    "2: S=(1+2/2*3) + (1+2+3/1*2*3)+ .... +(1+2+3+...+n/1*2*3*.....*n)\n",
    "(Accept n from the user)\n"
   ]
  },
  {
   "cell_type": "code",
   "execution_count": 70,
   "id": "4a6df228",
   "metadata": {},
   "outputs": [
    {
     "name": "stdout",
     "output_type": "stream",
     "text": [
      "enter a choice:1\n",
      "enter a number:10\n",
      "9431.30357142857\n"
     ]
    }
   ],
   "source": [
    "def one(a,n):\n",
    "    s=0.0\n",
    "    for i in range(1,n+1):\n",
    "        s=s+(a**i)/i\n",
    "    print(s)\n",
    "def two(n):\n",
    "    s=0.0\n",
    "    n=1.0\n",
    "    d=1.0\n",
    "    for i in range(2,n+1):\n",
    "        n=n+i\n",
    "        d=d*i\n",
    "        s=s+n/d\n",
    "    print(s)\n",
    "c=int(input(\"enter a choice:\"))\n",
    "n=int(input(\"enter a number:\"))\n",
    "if c==1:\n",
    "    one(3,n)\n",
    "else:\n",
    "    two(n)\n",
    "    "
   ]
  },
  {
   "cell_type": "markdown",
   "id": "49456e83",
   "metadata": {},
   "source": [
    "11.Given an input string, count occurrences of all characters within a string\n",
    "Sample Input: \n",
    "S = “ Mississippi ”\n",
    "Sample Output:\n",
    "{‘M’ : 1, ‘i ’ : 4, ‘s’ : 4, ‘p’ : 2}"
   ]
  },
  {
   "cell_type": "code",
   "execution_count": 77,
   "id": "f5f02d76",
   "metadata": {},
   "outputs": [
    {
     "name": "stdout",
     "output_type": "stream",
     "text": [
      "enter a string:aabbahbhabhebhebbxhyge\n",
      "{'a': 4, 'b': 7, 'h': 5, 'e': 3, 'x': 1, 'y': 1, 'g': 1}\n"
     ]
    }
   ],
   "source": [
    "s=input(\"enter a string:\")\n",
    "d={}\n",
    "for i in s:\n",
    "     if i in d:\n",
    "        d[i] += 1\n",
    "     else:\n",
    "        d[i] = 1\n",
    "print(d)\n"
   ]
  },
  {
   "cell_type": "markdown",
   "id": "a2bd21ee",
   "metadata": {},
   "source": [
    "12. WAP to remove special symbols/Punctuation from a given string\n",
    "S = Hello@World#How are(! you? *&\n",
    "Output:\n",
    "Hello World How are you"
   ]
  },
  {
   "cell_type": "code",
   "execution_count": 79,
   "id": "d40e19df",
   "metadata": {},
   "outputs": [
    {
     "name": "stdout",
     "output_type": "stream",
     "text": [
      "enter a string:hello @ world , how are # you?\n",
      "hello  world  how are  you\n"
     ]
    }
   ],
   "source": [
    "def Punctuation(string):\n",
    "    punctuations = '''!()-[]{};:'\"\\,<>./?@#$%^&*_~'''\n",
    "    for x in string.lower():\n",
    "        if x in punctuations:\n",
    "            string = string.replace(x, \"\")\n",
    "    print(string)\n",
    "string =input(\"enter a string:\")\n",
    "Punctuation(string)\n",
    "    "
   ]
  },
  {
   "cell_type": "markdown",
   "id": "d6df2d60",
   "metadata": {},
   "source": [
    "13. Split a given string on hyphens into several substrings and display each substring\n",
    "S = “Python-is-a-programming-language”\n",
    "Output:\n",
    "Python\n",
    "is\n",
    "A\n",
    "programming\n",
    "language"
   ]
  },
  {
   "cell_type": "code",
   "execution_count": 84,
   "id": "2c17e458",
   "metadata": {},
   "outputs": [
    {
     "name": "stdout",
     "output_type": "stream",
     "text": [
      "enter a string: Python-is-a-programming-language\n",
      "Python\n",
      "is\n",
      "a\n",
      "programming\n",
      "languag\n"
     ]
    }
   ],
   "source": [
    "s=input(\"enter a string: \")\n",
    "word=\"\"\n",
    "for i in range(0,len(s)):\n",
    "    if s[i] != '-' and i!=len(s)-1:\n",
    "        word=word+s[i]\n",
    "    else:\n",
    "        print(word)\n",
    "        word=\"\"\n",
    "\n",
    "    "
   ]
  },
  {
   "cell_type": "markdown",
   "id": "5806a167",
   "metadata": {},
   "source": [
    "14. Given two strings, s1, and s2 return a new string made of the first, middle, and last \n",
    "characters each input string\n",
    "s1 = “Hello”\n",
    "s2 = “World”\n",
    "Output:\n",
    "S=HWlrod"
   ]
  },
  {
   "cell_type": "code",
   "execution_count": 1,
   "id": "f0faaa24",
   "metadata": {},
   "outputs": [
    {
     "name": "stdout",
     "output_type": "stream",
     "text": [
      "HWlrod\n"
     ]
    }
   ],
   "source": [
    "s1='Hello'\n",
    "s2='World'\n",
    "s3=''\n",
    "for i in range(0,len(s1)):\n",
    "    if i%2==0:\n",
    "      s3=s3+s1[i]+s2[i]\n",
    "print(s3)"
   ]
  },
  {
   "cell_type": "markdown",
   "id": "b7a55787",
   "metadata": {},
   "source": [
    "16. Reverse the given tuple T = (10, 20 , 30 , 40, 50)"
   ]
  },
  {
   "cell_type": "code",
   "execution_count": 8,
   "id": "deee6f6e",
   "metadata": {},
   "outputs": [
    {
     "name": "stdout",
     "output_type": "stream",
     "text": [
      "50 40 30 20 10 "
     ]
    }
   ],
   "source": [
    "t=(10,20,30,40,50)\n",
    "for i in range(0,len(t)):\n",
    "    print(t[len(t)-i-1],end=\" \")\n",
    "    "
   ]
  },
  {
   "cell_type": "markdown",
   "id": "5373c6b4",
   "metadata": {},
   "source": [
    "17. Modify the first item (22) of a list inside a following tuple to 222 \n",
    "T= (11, [22, 33], 44, 55)"
   ]
  },
  {
   "cell_type": "code",
   "execution_count": 10,
   "id": "2d5718d2",
   "metadata": {},
   "outputs": [
    {
     "name": "stdout",
     "output_type": "stream",
     "text": [
      "(11, [222, 33], 44, 55)\n"
     ]
    }
   ],
   "source": [
    "T=(11,[22,33],44,55)\n",
    "T[1][0]=222\n",
    "print(T)"
   ]
  },
  {
   "cell_type": "markdown",
   "id": "97337fe4",
   "metadata": {},
   "source": [
    "18. Counts the number of occurrences of item 50 from a tuple\n",
    "T = (‘a’ , ‘b’ ,‘c’ , ‘a’, ‘e, ‘a’ , ‘b’ , ‘e’ ,‘o’)"
   ]
  },
  {
   "cell_type": "code",
   "execution_count": 43,
   "id": "77e2e046",
   "metadata": {},
   "outputs": [
    {
     "name": "stdout",
     "output_type": "stream",
     "text": [
      "{'a': 3, 'b': 2, 'c': 1, 'e': 2, 'o': 1}\n"
     ]
    }
   ],
   "source": [
    "d={}\n",
    "T=('a','b' ,'c' , 'a', 'e', 'a' , 'b' , 'e' ,'o')\n",
    "for i in T:\n",
    "    d[i]=0\n",
    "for i in T:\n",
    "    if d[i]:\n",
    "        d[i]=d[i]+1\n",
    "        \n",
    "    else:\n",
    "        d[i]=1\n",
    "print(d)\n",
    "\n",
    "        "
   ]
  },
  {
   "cell_type": "markdown",
   "id": "fd9613a1",
   "metadata": {},
   "source": [
    "19. Return a new set of identical items from a given two set\n",
    "set1 = {10, 20, 30, 40, 50}\n",
    "set2 = {30, 40, 50, 60, 70}\n",
    "Expected output: {40, 50, 30}"
   ]
  },
  {
   "cell_type": "code",
   "execution_count": 51,
   "id": "55f2c5c6",
   "metadata": {},
   "outputs": [
    {
     "name": "stdout",
     "output_type": "stream",
     "text": [
      "{40, 50, 30}\n"
     ]
    }
   ],
   "source": [
    "set1 = {10, 20, 30, 40, 50}\n",
    "set2 = {30, 40, 50, 60, 70}\n",
    "set3=set1.intersection(set2)\n",
    "print(set3)\n",
    "\n",
    "    "
   ]
  },
  {
   "cell_type": "markdown",
   "id": "e015a6ad",
   "metadata": {},
   "source": [
    "20. Remove items 10, 20, 30 from the following set at once\n",
    "set1 = {10, 20, 30, 40, 50}\n",
    "Expected output: {40, 50"
   ]
  },
  {
   "cell_type": "code",
   "execution_count": 53,
   "id": "8f0a1150",
   "metadata": {},
   "outputs": [
    {
     "name": "stdout",
     "output_type": "stream",
     "text": [
      "{40, 50}\n"
     ]
    }
   ],
   "source": [
    "set1 = {10, 20, 30, 40, 50}\n",
    "set1.discard(10)\n",
    "set1.discard(20)\n",
    "set1.discard(30)\n",
    "print(set1)"
   ]
  },
  {
   "cell_type": "markdown",
   "id": "50f2381c",
   "metadata": {},
   "source": [
    "21. Update set1 by adding items from set2, except common items\n",
    "set1 = {10, 20, 30, 40, 50}\n",
    "set2 = {30, 40, 50, 60, 70}\n",
    "Expected output: {70, 10, 20, 60"
   ]
  },
  {
   "cell_type": "code",
   "execution_count": 54,
   "id": "93849fc7",
   "metadata": {},
   "outputs": [
    {
     "data": {
      "text/plain": [
       "{10, 20, 60, 70}"
      ]
     },
     "execution_count": 54,
     "metadata": {},
     "output_type": "execute_result"
    }
   ],
   "source": [
    "set1 = {10, 20, 30, 40, 50}\n",
    "set2 = {30, 40, 50, 60, 70}\n",
    "set1.difference(set2).union(set2.difference(set1))"
   ]
  },
  {
   "cell_type": "markdown",
   "id": "9c927204",
   "metadata": {},
   "source": [
    "23. Given a two list of equal size create a Python set such that it shows the element from \n",
    "both lists in the pair\n",
    "Expected Output:\n",
    "First List [2, 3, 4, 5, 6, 7, 8]\n",
    "Second List [4, 9, 16, 25, 36, 49, 64]\n",
    "Result is {(6, 36), (8, 64), (4, 16), (5, 25), (3, 9), (7, 49), (2, 4)}"
   ]
  },
  {
   "cell_type": "code",
   "execution_count": 61,
   "id": "bf294145",
   "metadata": {},
   "outputs": [
    {
     "name": "stdout",
     "output_type": "stream",
     "text": [
      "{(7, 49), (2, 4), (4, 16), (8, 64), (6, 36), (3, 9), (5, 25)}\n"
     ]
    }
   ],
   "source": [
    "first=[2,3,4,5,6,7,8]\n",
    "sec=[4,9,16,25,36,49,64]\n",
    "result = zip(first, sec)\n",
    "resultSet = set(result)\n",
    "print(resultSet)\n"
   ]
  },
  {
   "cell_type": "markdown",
   "id": "770de916",
   "metadata": {},
   "source": [
    "25. Suppose you want to develop a program to play a lottery.\n",
    "The program randomly generates a two-digit number and prompts the user to enter \n",
    "a two-digit number, and determines whether the user wins according to the \n",
    "following rules:\n",
    "a) If the user has entered that excat same number which matches with the \n",
    "randomly generated number then user wins Rs10,000\n",
    "b) If all the digits in the user’s input match all the digits in the lottery number,\n",
    "then the award is Rs 3,000.\n",
    "c) If only one digit in the user’s input matches a digit in the lottery number, the \n",
    "award is $1,000"
   ]
  },
  {
   "cell_type": "code",
   "execution_count": 63,
   "id": "3684d957",
   "metadata": {},
   "outputs": [
    {
     "name": "stdout",
     "output_type": "stream",
     "text": [
      "Welcome to the Lottery Program!\n",
      "Please enter a two digit number: 33\n",
      "Calculating Results.\n",
      "Your numbers don't match! Sorry!\n"
     ]
    }
   ],
   "source": [
    "lottery_num=88\n",
    "print(\"Welcome to the Lottery Program!\")\n",
    "user_num=int(input(\"Please enter a two digit number: \"))\n",
    "print(\"Calculating Results.\")\n",
    "lottery_tens = lottery_num // 10\n",
    "lottery_ones = lottery_num % 10\n",
    "user_tens = user_num // 10\n",
    "user_ones = user_num % 10\n",
    "if lottery_num == user_num:\n",
    "    print(\"All your numbers match in exact order! Your reward is $10,000!\\n\")\n",
    "elif lottery_tens == user_ones and lottery_ones == user_tens:\n",
    "    print(\"All your numbers match! Your reward is $3,000!\\n\")\n",
    "elif lottery_tens == user_tens or lottery_ones == user_ones \\\n",
    "  or lottery_ones == user_tens or lottery_tens == user_ones:\n",
    "    print(\"One of your numbers match the lottery. Your reward is $1,000!\\n\")\n",
    "else:\n",
    "    print(\"Your numbers don't match! Sorry!\")"
   ]
  },
  {
   "cell_type": "code",
   "execution_count": null,
   "id": "2e4e3be9",
   "metadata": {},
   "outputs": [],
   "source": []
  },
  {
   "cell_type": "code",
   "execution_count": null,
   "id": "0411cdc0",
   "metadata": {},
   "outputs": [],
   "source": []
  },
  {
   "cell_type": "code",
   "execution_count": null,
   "id": "04d8d10e",
   "metadata": {},
   "outputs": [],
   "source": []
  },
  {
   "cell_type": "code",
   "execution_count": null,
   "id": "a32375d8",
   "metadata": {},
   "outputs": [],
   "source": []
  },
  {
   "cell_type": "code",
   "execution_count": null,
   "id": "363884cb",
   "metadata": {},
   "outputs": [],
   "source": []
  },
  {
   "cell_type": "code",
   "execution_count": null,
   "id": "896ef8d8",
   "metadata": {},
   "outputs": [],
   "source": []
  },
  {
   "cell_type": "code",
   "execution_count": null,
   "id": "a0d8e64a",
   "metadata": {},
   "outputs": [],
   "source": []
  },
  {
   "cell_type": "code",
   "execution_count": null,
   "id": "c71224a3",
   "metadata": {},
   "outputs": [],
   "source": []
  },
  {
   "cell_type": "code",
   "execution_count": null,
   "id": "1aef4623",
   "metadata": {},
   "outputs": [],
   "source": []
  },
  {
   "cell_type": "code",
   "execution_count": null,
   "id": "9e25081c",
   "metadata": {},
   "outputs": [],
   "source": []
  },
  {
   "cell_type": "code",
   "execution_count": null,
   "id": "a8eb8443",
   "metadata": {},
   "outputs": [],
   "source": []
  },
  {
   "cell_type": "code",
   "execution_count": null,
   "id": "5fbb7fe3",
   "metadata": {},
   "outputs": [],
   "source": []
  },
  {
   "cell_type": "code",
   "execution_count": null,
   "id": "82bd05c0",
   "metadata": {},
   "outputs": [],
   "source": []
  },
  {
   "cell_type": "code",
   "execution_count": null,
   "id": "563292ef",
   "metadata": {},
   "outputs": [],
   "source": []
  },
  {
   "cell_type": "code",
   "execution_count": null,
   "id": "caa522de",
   "metadata": {},
   "outputs": [],
   "source": []
  },
  {
   "cell_type": "code",
   "execution_count": null,
   "id": "e5fa69a7",
   "metadata": {},
   "outputs": [],
   "source": []
  },
  {
   "cell_type": "code",
   "execution_count": null,
   "id": "2984ce2a",
   "metadata": {},
   "outputs": [],
   "source": []
  },
  {
   "cell_type": "code",
   "execution_count": null,
   "id": "05042bc2",
   "metadata": {},
   "outputs": [],
   "source": []
  },
  {
   "cell_type": "code",
   "execution_count": null,
   "id": "d2d8f0d4",
   "metadata": {},
   "outputs": [],
   "source": []
  },
  {
   "cell_type": "code",
   "execution_count": null,
   "id": "865481c6",
   "metadata": {},
   "outputs": [],
   "source": []
  },
  {
   "cell_type": "code",
   "execution_count": null,
   "id": "6e66eb86",
   "metadata": {},
   "outputs": [],
   "source": []
  },
  {
   "cell_type": "code",
   "execution_count": null,
   "id": "b84e70d9",
   "metadata": {},
   "outputs": [],
   "source": []
  },
  {
   "cell_type": "code",
   "execution_count": null,
   "id": "0abc9b6e",
   "metadata": {},
   "outputs": [],
   "source": []
  },
  {
   "cell_type": "code",
   "execution_count": null,
   "id": "416fc5c0",
   "metadata": {},
   "outputs": [],
   "source": []
  },
  {
   "cell_type": "code",
   "execution_count": null,
   "id": "b7403f1f",
   "metadata": {},
   "outputs": [],
   "source": []
  },
  {
   "cell_type": "code",
   "execution_count": null,
   "id": "34fb0d7f",
   "metadata": {},
   "outputs": [],
   "source": []
  },
  {
   "cell_type": "code",
   "execution_count": null,
   "id": "19e97557",
   "metadata": {},
   "outputs": [],
   "source": []
  },
  {
   "cell_type": "code",
   "execution_count": null,
   "id": "79de0ece",
   "metadata": {},
   "outputs": [],
   "source": []
  },
  {
   "cell_type": "code",
   "execution_count": null,
   "id": "e4ed2bf7",
   "metadata": {},
   "outputs": [],
   "source": []
  },
  {
   "cell_type": "code",
   "execution_count": null,
   "id": "54e5f032",
   "metadata": {},
   "outputs": [],
   "source": []
  },
  {
   "cell_type": "code",
   "execution_count": null,
   "id": "00bc9752",
   "metadata": {},
   "outputs": [],
   "source": []
  },
  {
   "cell_type": "code",
   "execution_count": null,
   "id": "6bbea4ba",
   "metadata": {},
   "outputs": [],
   "source": []
  },
  {
   "cell_type": "code",
   "execution_count": null,
   "id": "29d233cf",
   "metadata": {},
   "outputs": [],
   "source": []
  },
  {
   "cell_type": "code",
   "execution_count": null,
   "id": "abe0bc9c",
   "metadata": {},
   "outputs": [],
   "source": []
  },
  {
   "cell_type": "code",
   "execution_count": null,
   "id": "236cbf74",
   "metadata": {},
   "outputs": [],
   "source": []
  },
  {
   "cell_type": "code",
   "execution_count": null,
   "id": "f2017f8f",
   "metadata": {},
   "outputs": [],
   "source": []
  },
  {
   "cell_type": "code",
   "execution_count": null,
   "id": "fe235ea8",
   "metadata": {},
   "outputs": [],
   "source": []
  },
  {
   "cell_type": "code",
   "execution_count": null,
   "id": "973fec8e",
   "metadata": {},
   "outputs": [],
   "source": []
  },
  {
   "cell_type": "code",
   "execution_count": null,
   "id": "341afd8c",
   "metadata": {},
   "outputs": [],
   "source": []
  },
  {
   "cell_type": "code",
   "execution_count": null,
   "id": "cac96ab4",
   "metadata": {},
   "outputs": [],
   "source": []
  },
  {
   "cell_type": "code",
   "execution_count": null,
   "id": "149de345",
   "metadata": {},
   "outputs": [],
   "source": []
  },
  {
   "cell_type": "code",
   "execution_count": null,
   "id": "e6fb50f7",
   "metadata": {},
   "outputs": [],
   "source": []
  },
  {
   "cell_type": "code",
   "execution_count": null,
   "id": "280f3b93",
   "metadata": {},
   "outputs": [],
   "source": []
  },
  {
   "cell_type": "code",
   "execution_count": null,
   "id": "b39189e1",
   "metadata": {},
   "outputs": [],
   "source": []
  },
  {
   "cell_type": "code",
   "execution_count": null,
   "id": "bd0a5528",
   "metadata": {},
   "outputs": [],
   "source": []
  },
  {
   "cell_type": "code",
   "execution_count": null,
   "id": "e7b7d0db",
   "metadata": {},
   "outputs": [],
   "source": []
  },
  {
   "cell_type": "code",
   "execution_count": null,
   "id": "3fa96a9e",
   "metadata": {},
   "outputs": [],
   "source": []
  },
  {
   "cell_type": "code",
   "execution_count": null,
   "id": "e56faf34",
   "metadata": {},
   "outputs": [],
   "source": []
  },
  {
   "cell_type": "code",
   "execution_count": null,
   "id": "fce778bb",
   "metadata": {},
   "outputs": [],
   "source": []
  },
  {
   "cell_type": "code",
   "execution_count": null,
   "id": "f7deee59",
   "metadata": {},
   "outputs": [],
   "source": []
  },
  {
   "cell_type": "code",
   "execution_count": null,
   "id": "81363896",
   "metadata": {},
   "outputs": [],
   "source": []
  },
  {
   "cell_type": "code",
   "execution_count": null,
   "id": "97db4a3b",
   "metadata": {},
   "outputs": [],
   "source": []
  },
  {
   "cell_type": "code",
   "execution_count": null,
   "id": "49edca22",
   "metadata": {},
   "outputs": [],
   "source": []
  },
  {
   "cell_type": "code",
   "execution_count": null,
   "id": "e77fef13",
   "metadata": {},
   "outputs": [],
   "source": []
  },
  {
   "cell_type": "code",
   "execution_count": null,
   "id": "6caf8530",
   "metadata": {},
   "outputs": [],
   "source": []
  },
  {
   "cell_type": "code",
   "execution_count": null,
   "id": "5d37c903",
   "metadata": {},
   "outputs": [],
   "source": []
  },
  {
   "cell_type": "code",
   "execution_count": null,
   "id": "0cee683c",
   "metadata": {},
   "outputs": [],
   "source": []
  },
  {
   "cell_type": "code",
   "execution_count": null,
   "id": "dedac7f2",
   "metadata": {},
   "outputs": [],
   "source": []
  },
  {
   "cell_type": "code",
   "execution_count": null,
   "id": "c94f04c8",
   "metadata": {},
   "outputs": [],
   "source": []
  },
  {
   "cell_type": "code",
   "execution_count": null,
   "id": "8ba38ce6",
   "metadata": {},
   "outputs": [],
   "source": []
  },
  {
   "cell_type": "code",
   "execution_count": null,
   "id": "6ee6710d",
   "metadata": {},
   "outputs": [],
   "source": []
  },
  {
   "cell_type": "code",
   "execution_count": null,
   "id": "1e2d92d5",
   "metadata": {},
   "outputs": [],
   "source": []
  },
  {
   "cell_type": "code",
   "execution_count": null,
   "id": "db0a344e",
   "metadata": {},
   "outputs": [],
   "source": []
  },
  {
   "cell_type": "code",
   "execution_count": null,
   "id": "bc656d43",
   "metadata": {},
   "outputs": [],
   "source": []
  },
  {
   "cell_type": "code",
   "execution_count": null,
   "id": "0dfbb40b",
   "metadata": {},
   "outputs": [],
   "source": []
  },
  {
   "cell_type": "code",
   "execution_count": null,
   "id": "97e42096",
   "metadata": {},
   "outputs": [],
   "source": []
  },
  {
   "cell_type": "code",
   "execution_count": null,
   "id": "5cd04b48",
   "metadata": {},
   "outputs": [],
   "source": []
  },
  {
   "cell_type": "code",
   "execution_count": null,
   "id": "8b3766df",
   "metadata": {},
   "outputs": [],
   "source": []
  },
  {
   "cell_type": "code",
   "execution_count": null,
   "id": "3d559e9f",
   "metadata": {},
   "outputs": [],
   "source": []
  },
  {
   "cell_type": "code",
   "execution_count": null,
   "id": "886f8a9e",
   "metadata": {},
   "outputs": [],
   "source": []
  },
  {
   "cell_type": "code",
   "execution_count": null,
   "id": "8ebc726c",
   "metadata": {},
   "outputs": [],
   "source": []
  },
  {
   "cell_type": "code",
   "execution_count": null,
   "id": "a5e686d6",
   "metadata": {},
   "outputs": [],
   "source": []
  },
  {
   "cell_type": "code",
   "execution_count": null,
   "id": "cce57fd9",
   "metadata": {},
   "outputs": [],
   "source": []
  },
  {
   "cell_type": "code",
   "execution_count": null,
   "id": "d9c2b683",
   "metadata": {},
   "outputs": [],
   "source": []
  },
  {
   "cell_type": "code",
   "execution_count": null,
   "id": "5c41f7a4",
   "metadata": {},
   "outputs": [],
   "source": []
  },
  {
   "cell_type": "code",
   "execution_count": null,
   "id": "2b349837",
   "metadata": {},
   "outputs": [],
   "source": []
  },
  {
   "cell_type": "code",
   "execution_count": null,
   "id": "1241e1c2",
   "metadata": {},
   "outputs": [],
   "source": []
  },
  {
   "cell_type": "code",
   "execution_count": null,
   "id": "7934ae21",
   "metadata": {},
   "outputs": [],
   "source": []
  },
  {
   "cell_type": "code",
   "execution_count": null,
   "id": "8dfd2541",
   "metadata": {},
   "outputs": [],
   "source": []
  },
  {
   "cell_type": "code",
   "execution_count": null,
   "id": "c24788ac",
   "metadata": {},
   "outputs": [],
   "source": []
  },
  {
   "cell_type": "code",
   "execution_count": null,
   "id": "da7886fc",
   "metadata": {},
   "outputs": [],
   "source": []
  },
  {
   "cell_type": "code",
   "execution_count": null,
   "id": "21914200",
   "metadata": {},
   "outputs": [],
   "source": []
  },
  {
   "cell_type": "code",
   "execution_count": null,
   "id": "bfded736",
   "metadata": {},
   "outputs": [],
   "source": []
  },
  {
   "cell_type": "code",
   "execution_count": null,
   "id": "77b0b534",
   "metadata": {},
   "outputs": [],
   "source": []
  },
  {
   "cell_type": "code",
   "execution_count": null,
   "id": "96b852b7",
   "metadata": {},
   "outputs": [],
   "source": []
  },
  {
   "cell_type": "code",
   "execution_count": null,
   "id": "b9f00204",
   "metadata": {},
   "outputs": [],
   "source": []
  },
  {
   "cell_type": "code",
   "execution_count": null,
   "id": "d5b74ac8",
   "metadata": {},
   "outputs": [],
   "source": []
  },
  {
   "cell_type": "code",
   "execution_count": null,
   "id": "f7eae310",
   "metadata": {},
   "outputs": [],
   "source": []
  },
  {
   "cell_type": "code",
   "execution_count": null,
   "id": "69bd2e06",
   "metadata": {},
   "outputs": [],
   "source": []
  },
  {
   "cell_type": "code",
   "execution_count": null,
   "id": "dc897195",
   "metadata": {},
   "outputs": [],
   "source": []
  },
  {
   "cell_type": "code",
   "execution_count": null,
   "id": "eacbb8b8",
   "metadata": {},
   "outputs": [],
   "source": []
  },
  {
   "cell_type": "code",
   "execution_count": null,
   "id": "93843601",
   "metadata": {},
   "outputs": [],
   "source": []
  },
  {
   "cell_type": "code",
   "execution_count": null,
   "id": "f075cdec",
   "metadata": {},
   "outputs": [],
   "source": []
  },
  {
   "cell_type": "markdown",
   "id": "200685e0",
   "metadata": {},
   "source": [
    "## "
   ]
  },
  {
   "cell_type": "code",
   "execution_count": null,
   "id": "c25a9ccc",
   "metadata": {},
   "outputs": [],
   "source": []
  },
  {
   "cell_type": "code",
   "execution_count": null,
   "id": "1c67929c",
   "metadata": {},
   "outputs": [],
   "source": []
  },
  {
   "cell_type": "code",
   "execution_count": null,
   "id": "16554b56",
   "metadata": {},
   "outputs": [],
   "source": []
  },
  {
   "cell_type": "code",
   "execution_count": null,
   "id": "b1bfc385",
   "metadata": {},
   "outputs": [],
   "source": []
  },
  {
   "cell_type": "code",
   "execution_count": null,
   "id": "edd7a1df",
   "metadata": {},
   "outputs": [],
   "source": []
  },
  {
   "cell_type": "code",
   "execution_count": null,
   "id": "5681d838",
   "metadata": {},
   "outputs": [],
   "source": []
  },
  {
   "cell_type": "code",
   "execution_count": null,
   "id": "fc8f8fc8",
   "metadata": {},
   "outputs": [],
   "source": []
  },
  {
   "cell_type": "code",
   "execution_count": null,
   "id": "ce59461a",
   "metadata": {},
   "outputs": [],
   "source": []
  },
  {
   "cell_type": "code",
   "execution_count": null,
   "id": "eef464ff",
   "metadata": {},
   "outputs": [],
   "source": []
  },
  {
   "cell_type": "code",
   "execution_count": null,
   "id": "9bf67d0d",
   "metadata": {},
   "outputs": [],
   "source": []
  },
  {
   "cell_type": "code",
   "execution_count": null,
   "id": "bece34e0",
   "metadata": {},
   "outputs": [],
   "source": []
  }
 ],
 "metadata": {
  "kernelspec": {
   "display_name": "Python 3",
   "language": "python",
   "name": "python3"
  },
  "language_info": {
   "codemirror_mode": {
    "name": "ipython",
    "version": 3
   },
   "file_extension": ".py",
   "mimetype": "text/x-python",
   "name": "python",
   "nbconvert_exporter": "python",
   "pygments_lexer": "ipython3",
   "version": "3.8.8"
  }
 },
 "nbformat": 4,
 "nbformat_minor": 5
}
