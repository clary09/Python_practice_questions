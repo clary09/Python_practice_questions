{
 "cells": [
  {
   "cell_type": "markdown",
   "id": "51773887",
   "metadata": {},
   "source": [
    "Arrays"
   ]
  },
  {
   "cell_type": "code",
   "execution_count": 1,
   "id": "e3e8fcda",
   "metadata": {},
   "outputs": [
    {
     "name": "stdout",
     "output_type": "stream",
     "text": [
      "1 2 3 4 5 6\n",
      "[6. 5. 4. 3. 2. 1.]\n"
     ]
    }
   ],
   "source": [
    "import numpy\n",
    "\n",
    "def arrays(arr):\n",
    "    rev=arr[::-1]\n",
    "    return numpy.array(rev,float)\n",
    "\n",
    "arr = input().strip().split(' ')\n",
    "result = arrays(arr)\n",
    "print(result)"
   ]
  },
  {
   "cell_type": "code",
   "execution_count": 2,
   "id": "227657b5",
   "metadata": {},
   "outputs": [],
   "source": [
    "import numpy as np\n"
   ]
  },
  {
   "cell_type": "markdown",
   "id": "b9a3eca5",
   "metadata": {},
   "source": [
    "Shape and Reshape"
   ]
  },
  {
   "cell_type": "code",
   "execution_count": 8,
   "id": "66cd0b8a",
   "metadata": {},
   "outputs": [
    {
     "name": "stdout",
     "output_type": "stream",
     "text": [
      "enter elements of list1\n",
      "enter elements of list2\n",
      "enter elements of list3\n",
      "enter elements of list4\n",
      "enter elements of list5\n",
      "enter elements of list6\n",
      "enter elements of list7\n",
      "enter elements of list8\n",
      "enter elements of list9\n"
     ]
    },
    {
     "data": {
      "text/plain": [
       "array([['1', '2', '3'],\n",
       "       ['4', '5', '6'],\n",
       "       ['7', '8', '9']], dtype='<U1')"
      ]
     },
     "execution_count": 8,
     "metadata": {},
     "output_type": "execute_result"
    }
   ],
   "source": [
    "lis=[]\n",
    "for i in range(0,9):\n",
    "   lis.append(input(\"enter elements of list\"))\n",
    "my=np.array(lis)\n",
    "np.reshape(my,(3,3))"
   ]
  },
  {
   "cell_type": "markdown",
   "id": "c1d4238b",
   "metadata": {},
   "source": [
    "Transpose"
   ]
  },
  {
   "cell_type": "code",
   "execution_count": 10,
   "id": "76722a7b",
   "metadata": {},
   "outputs": [
    {
     "name": "stdout",
     "output_type": "stream",
     "text": [
      "enter number of rows5\n",
      "enter number of columns4\n",
      "enter a value:1\n",
      "enter a value:2\n",
      "enter a value:3\n",
      "enter a value:4\n",
      "enter a value:5\n",
      "enter a value:6\n",
      "enter a value:7\n",
      "enter a value:8\n",
      "enter a value:9\n",
      "enter a value:10\n",
      "enter a value:11\n",
      "enter a value:12\n",
      "enter a value:13\n",
      "enter a value:14\n",
      "enter a value:15\n",
      "enter a value:16\n",
      "enter a value:17\n",
      "enter a value:18\n",
      "enter a value:19\n",
      "enter a value:20\n",
      "[[ 1  5  9 13 17]\n",
      " [ 2  6 10 14 18]\n",
      " [ 3  7 11 15 19]\n",
      " [ 4  8 12 16 20]]\n",
      "[ 1  2  3  4  5  6  7  8  9 10 11 12 13 14 15 16 17 18 19 20]\n"
     ]
    }
   ],
   "source": [
    "n=int(input(\"enter number of rows\"))\n",
    "m=int(input(\"enter number of columns\"))\n",
    "li=[]\n",
    "for i in range(0,n*m):\n",
    "    li.append(int(input(\"enter a value:\")))\n",
    "arr=np.array(li)\n",
    "arr2=arr.reshape(n,m)\n",
    "print(np.transpose(arr2))\n",
    "print(arr.flatten())"
   ]
  },
  {
   "cell_type": "markdown",
   "id": "a5ab50ec",
   "metadata": {},
   "source": [
    "concat"
   ]
  },
  {
   "cell_type": "code",
   "execution_count": 14,
   "id": "3b86944f",
   "metadata": {},
   "outputs": [
    {
     "name": "stdout",
     "output_type": "stream",
     "text": [
      "3 4 2\n",
      "1 2\n",
      "1 4\n",
      "1 3\n",
      "1 5\n",
      "1 6\n",
      "1 7\n",
      "1 8\n",
      "[[1 2]\n",
      " [1 4]\n",
      " [1 3]\n",
      " [1 5]\n",
      " [1 6]\n",
      " [1 7]\n",
      " [1 8]]\n"
     ]
    }
   ],
   "source": [
    "a, b, c = map(int,input().split())\n",
    "arrA = np.array([input().split() for _ in range(a)],int)\n",
    "arrB = np.array([input().split() for _ in range(b)],int)\n",
    "print(np.concatenate((arrA, arrB), axis = 0))\n",
    "    "
   ]
  },
  {
   "cell_type": "markdown",
   "id": "3da14906",
   "metadata": {},
   "source": [
    "zeros and ones"
   ]
  },
  {
   "cell_type": "code",
   "execution_count": 20,
   "id": "de7a3242",
   "metadata": {},
   "outputs": [
    {
     "name": "stdout",
     "output_type": "stream",
     "text": [
      "3 3 3 \n",
      "[[[0 0 0]\n",
      "  [0 0 0]\n",
      "  [0 0 0]]\n",
      "\n",
      " [[0 0 0]\n",
      "  [0 0 0]\n",
      "  [0 0 0]]\n",
      "\n",
      " [[0 0 0]\n",
      "  [0 0 0]\n",
      "  [0 0 0]]]\n",
      "[[[1 1 1]\n",
      "  [1 1 1]\n",
      "  [1 1 1]]\n",
      "\n",
      " [[1 1 1]\n",
      "  [1 1 1]\n",
      "  [1 1 1]]\n",
      "\n",
      " [[1 1 1]\n",
      "  [1 1 1]\n",
      "  [1 1 1]]]\n"
     ]
    },
    {
     "name": "stderr",
     "output_type": "stream",
     "text": [
      "<ipython-input-20-f0b9a68b43d0>:2: DeprecationWarning: `np.int` is a deprecated alias for the builtin `int`. To silence this warning, use `int` by itself. Doing this will not modify any behavior and is safe. When replacing `np.int`, you may wish to use e.g. `np.int64` or `np.int32` to specify the precision. If you wish to review your current use, check the release note link for additional information.\n",
      "Deprecated in NumPy 1.20; for more details and guidance: https://numpy.org/devdocs/release/1.20.0-notes.html#deprecations\n",
      "  print (numpy.zeros(nums, dtype = numpy.int))\n",
      "<ipython-input-20-f0b9a68b43d0>:3: DeprecationWarning: `np.int` is a deprecated alias for the builtin `int`. To silence this warning, use `int` by itself. Doing this will not modify any behavior and is safe. When replacing `np.int`, you may wish to use e.g. `np.int64` or `np.int32` to specify the precision. If you wish to review your current use, check the release note link for additional information.\n",
      "Deprecated in NumPy 1.20; for more details and guidance: https://numpy.org/devdocs/release/1.20.0-notes.html#deprecations\n",
      "  print (numpy.ones(nums, dtype = numpy.int))\n"
     ]
    }
   ],
   "source": [
    "nums = tuple(map(int, input().split()))\n",
    "print (numpy.zeros(nums, dtype = numpy.int))\n",
    "print (numpy.ones(nums, dtype = numpy.int))\n"
   ]
  },
  {
   "cell_type": "markdown",
   "id": "128dc2bf",
   "metadata": {},
   "source": [
    "eye and identity"
   ]
  },
  {
   "cell_type": "code",
   "execution_count": 22,
   "id": "cd51f31c",
   "metadata": {},
   "outputs": [
    {
     "name": "stdout",
     "output_type": "stream",
     "text": [
      "3 3\n",
      "[[ 1.  0.  0.]\n",
      " [ 0.  1.  0.]\n",
      " [ 0.  0.  1.]]\n"
     ]
    }
   ],
   "source": [
    "numpy.set_printoptions(sign=' ')\n",
    "print(numpy.eye(*map(int, input().split())))"
   ]
  },
  {
   "cell_type": "markdown",
   "id": "0bc5a93c",
   "metadata": {},
   "source": [
    "array mathematics"
   ]
  },
  {
   "cell_type": "code",
   "execution_count": 23,
   "id": "d376456f",
   "metadata": {},
   "outputs": [
    {
     "name": "stdout",
     "output_type": "stream",
     "text": [
      "1 4\n",
      "1 2 3 4\n",
      "5 6 7 8\n",
      "[[ 6  8 10 12]]\n",
      "[[-4 -4 -4 -4]]\n",
      "[[ 5 12 21 32]]\n",
      "[[0 0 0 0]]\n",
      "[[1 2 3 4]]\n",
      "[[    1    64  2187 65536]]\n"
     ]
    }
   ],
   "source": [
    "n, m = map(int, input().split())\n",
    "a, b = (np.array([input().split() for _ in range(n)], dtype=int) for _ in range(2))\n",
    "print(a+b, a-b, a*b, a//b, a%b, a**b, sep='\\n')"
   ]
  },
  {
   "cell_type": "markdown",
   "id": "f384a082",
   "metadata": {},
   "source": [
    "floor and ceil"
   ]
  },
  {
   "cell_type": "code",
   "execution_count": 24,
   "id": "ecb1ac02",
   "metadata": {},
   "outputs": [
    {
     "name": "stdout",
     "output_type": "stream",
     "text": [
      "1.1 2.2 3.3 4.4 5.5 6.6 7.7 8.8 9.9\n",
      "[ 1.  2.  3.  4.  5.  6.  7.  8.  9.]\n",
      "[  2.   3.   4.   5.   6.   7.   8.   9.  10.]\n",
      "[  1.   2.   3.   4.   6.   7.   8.   9.  10.]\n"
     ]
    }
   ],
   "source": [
    "numpy.set_printoptions(sign=' ')\n",
    "\n",
    "a = numpy.array(input().split(),float)\n",
    "\n",
    "print(numpy.floor(a))\n",
    "print(numpy.ceil(a))\n",
    "print(numpy.rint(a))"
   ]
  },
  {
   "cell_type": "markdown",
   "id": "c129a4a8",
   "metadata": {},
   "source": [
    "sum and prod"
   ]
  },
  {
   "cell_type": "code",
   "execution_count": 26,
   "id": "23923927",
   "metadata": {},
   "outputs": [
    {
     "name": "stdout",
     "output_type": "stream",
     "text": [
      "2 2 \n",
      "1 2\n",
      "3 4\n",
      "24\n"
     ]
    }
   ],
   "source": [
    "print(np.prod(np.sum(np.array([input().split() for _ in range(int(input().split()[0])) ],int),axis=0)))"
   ]
  },
  {
   "cell_type": "markdown",
   "id": "79624bff",
   "metadata": {},
   "source": [
    "min and max"
   ]
  },
  {
   "cell_type": "code",
   "execution_count": 28,
   "id": "316f89ec",
   "metadata": {},
   "outputs": [
    {
     "name": "stdout",
     "output_type": "stream",
     "text": [
      "2 2\n",
      "1 3\n",
      "4 5\n",
      "4\n"
     ]
    }
   ],
   "source": [
    "arr=[]\n",
    "n,m=map(int,input().split())\n",
    "for row in range(n):\n",
    "    my_arr=list(map(int,input().split()))\n",
    "    arr.append(my_arr)\n",
    "my_array=numpy.array(arr)\n",
    "result=numpy.min(my_array, axis = 1)\n",
    "print(max(result))"
   ]
  },
  {
   "cell_type": "markdown",
   "id": "1e7b2a21",
   "metadata": {},
   "source": [
    "mean,var and std"
   ]
  },
  {
   "cell_type": "code",
   "execution_count": 29,
   "id": "c5552ffe",
   "metadata": {},
   "outputs": [
    {
     "name": "stdout",
     "output_type": "stream",
     "text": [
      "4 3\n",
      "1 2 3\n",
      "3 2 1\n",
      "4 5 6\n",
      "1 4 6\n",
      "[ 2.          2.          5.          3.66666667]\n",
      "[ 1.6875  1.6875  4.5   ]\n",
      "1.77169096879\n"
     ]
    }
   ],
   "source": [
    "array = []\n",
    "n, m = map(int, input().split())\n",
    "for _ in range(n): array.append(list(map(int, input().split())))\n",
    "array = numpy.array(array)\n",
    "print(numpy.mean(array, axis=1))\n",
    "print(numpy.var(array, axis=0))\n",
    "print(round(numpy.std(array), 11))"
   ]
  },
  {
   "cell_type": "markdown",
   "id": "246471b0",
   "metadata": {},
   "source": [
    "dot and cross"
   ]
  },
  {
   "cell_type": "code",
   "execution_count": 34,
   "id": "192d54b9",
   "metadata": {},
   "outputs": [
    {
     "name": "stdout",
     "output_type": "stream",
     "text": [
      "2\n",
      "1 2\n",
      "3 4\n",
      "1 2\n",
      "3 4\n",
      "[[ 7 10]\n",
      " [15 22]]\n"
     ]
    }
   ],
   "source": [
    "a=int(input())\n",
    "\n",
    "arr1=numpy.array([list(map(int,input().split())) for _ in range(a)])\n",
    "\n",
    "arr2=numpy.array([list(map(int,input().split())) for _ in range(a)])\n",
    "\n",
    "print(numpy.dot(arr1,arr2))"
   ]
  },
  {
   "cell_type": "code",
   "execution_count": null,
   "id": "c57161db",
   "metadata": {},
   "outputs": [],
   "source": [
    "polynomials"
   ]
  },
  {
   "cell_type": "code",
   "execution_count": 35,
   "id": "f501f34f",
   "metadata": {},
   "outputs": [
    {
     "name": "stdout",
     "output_type": "stream",
     "text": [
      "1.1 2 3\n",
      "0\n",
      "3.0\n"
     ]
    }
   ],
   "source": [
    "n = list(map(float,input().split()));\n",
    "m = input();\n",
    "print(numpy.polyval(n,int(m)));"
   ]
  },
  {
   "cell_type": "code",
   "execution_count": null,
   "id": "0e70c74c",
   "metadata": {},
   "outputs": [],
   "source": []
  },
  {
   "cell_type": "code",
   "execution_count": null,
   "id": "eb6eda61",
   "metadata": {},
   "outputs": [],
   "source": []
  },
  {
   "cell_type": "code",
   "execution_count": null,
   "id": "9d026add",
   "metadata": {},
   "outputs": [],
   "source": []
  },
  {
   "cell_type": "code",
   "execution_count": null,
   "id": "cd0c8085",
   "metadata": {},
   "outputs": [],
   "source": []
  },
  {
   "cell_type": "code",
   "execution_count": null,
   "id": "a882258d",
   "metadata": {},
   "outputs": [],
   "source": []
  },
  {
   "cell_type": "code",
   "execution_count": null,
   "id": "010ad390",
   "metadata": {},
   "outputs": [],
   "source": []
  },
  {
   "cell_type": "code",
   "execution_count": null,
   "id": "7957a7db",
   "metadata": {},
   "outputs": [],
   "source": []
  },
  {
   "cell_type": "code",
   "execution_count": null,
   "id": "9bf4886f",
   "metadata": {},
   "outputs": [],
   "source": []
  },
  {
   "cell_type": "code",
   "execution_count": null,
   "id": "0feb73a4",
   "metadata": {},
   "outputs": [],
   "source": []
  },
  {
   "cell_type": "code",
   "execution_count": null,
   "id": "363379fd",
   "metadata": {},
   "outputs": [],
   "source": []
  },
  {
   "cell_type": "code",
   "execution_count": null,
   "id": "d98cd204",
   "metadata": {},
   "outputs": [],
   "source": []
  },
  {
   "cell_type": "code",
   "execution_count": null,
   "id": "a2d5fb6c",
   "metadata": {},
   "outputs": [],
   "source": []
  },
  {
   "cell_type": "code",
   "execution_count": null,
   "id": "005170dd",
   "metadata": {},
   "outputs": [],
   "source": []
  },
  {
   "cell_type": "code",
   "execution_count": null,
   "id": "eb321bf5",
   "metadata": {},
   "outputs": [],
   "source": []
  }
 ],
 "metadata": {
  "kernelspec": {
   "display_name": "Python 3",
   "language": "python",
   "name": "python3"
  },
  "language_info": {
   "codemirror_mode": {
    "name": "ipython",
    "version": 3
   },
   "file_extension": ".py",
   "mimetype": "text/x-python",
   "name": "python",
   "nbconvert_exporter": "python",
   "pygments_lexer": "ipython3",
   "version": "3.8.8"
  }
 },
 "nbformat": 4,
 "nbformat_minor": 5
}
